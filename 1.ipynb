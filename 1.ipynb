{
 "cells": [
  {
   "cell_type": "markdown",
   "metadata": {},
   "source": [
    "## Bissection Method"
   ]
  },
  {
   "cell_type": "code",
   "execution_count": null,
   "metadata": {},
   "outputs": [],
   "source": [
    "import math\n",
    "import pandas as pd\n",
    "\n",
    "data={\n",
    "    'n':[],\n",
    "    'a':[],\n",
    "    'b':[],\n",
    "    'x':[],\n",
    "    'f(x)':[],\n",
    "}"
   ]
  },
  {
   "cell_type": "code",
   "execution_count": 8,
   "metadata": {},
   "outputs": [],
   "source": [
    "f=lambda x:(x**2)-math.sin(x)\n",
    "a=0.5\n",
    "b=1\n",
    "precision=4\n",
    "steps=(math.log(abs(b-a)/(10**(-precision))/2))/math.log(2)\n",
    "steps=math.ceil(steps)"
   ]
  },
  {
   "cell_type": "code",
   "execution_count": 9,
   "metadata": {},
   "outputs": [],
   "source": [
    "def bissection(data,steps,a,b,precision):\n",
    "    for i in range(1,steps+1):\n",
    "        data['n'].append(i)\n",
    "        data['a'].append(a)\n",
    "        data['b'].append(b)\n",
    "        x=round((a+b)/2,precision)\n",
    "        data['x'].append(x)\n",
    "        data['f(x)'].append(round(f(x),precision)) \n",
    "        if(f(x)<0):\n",
    "            a=x\n",
    "        elif (f(x)>0):\n",
    "            b=x\n",
    "        else:\n",
    "            break\n",
    "       \n",
    "    return data"
   ]
  },
  {
   "cell_type": "code",
   "execution_count": 10,
   "metadata": {},
   "outputs": [
    {
     "name": "stdout",
     "output_type": "stream",
     "text": [
      "     n       a       b       x    f(x)\n",
      "0    1  0.5000  1.0000  0.7500 -0.1191\n",
      "1    2  0.7500  1.0000  0.8750 -0.0019\n",
      "2    3  0.8750  1.0000  0.9375  0.0728\n",
      "3    4  0.8750  0.9375  0.9062  0.0340\n",
      "4    5  0.8750  0.9062  0.8906  0.0157\n",
      "5    6  0.8750  0.8906  0.8828  0.0068\n",
      "6    7  0.8750  0.8828  0.8789  0.0024\n",
      "7    8  0.8750  0.8789  0.8770  0.0003\n",
      "8    9  0.8750  0.8770  0.8760 -0.0008\n",
      "9   10  0.8760  0.8770  0.8765 -0.0003\n",
      "10  11  0.8765  0.8770  0.8767 -0.0000\n",
      "11  12  0.8767  0.8770  0.8769  0.0002\n",
      "Root=0.8769\n"
     ]
    }
   ],
   "source": [
    "if (f(a)*f(b))<0:\n",
    "    final_data=bissection(data,steps,a,b,precision)\n",
    "    data_frame=pd.DataFrame(final_data)\n",
    "    print(data_frame)\n",
    "    print(f\"Root={final_data['x'][-1]}\")\n",
    "else:\n",
    "    print(f\"Roots does not lie in between {a} and {b}\")"
   ]
  },
  {
   "cell_type": "code",
   "execution_count": null,
   "metadata": {},
   "outputs": [],
   "source": []
  }
 ],
 "metadata": {
  "kernelspec": {
   "display_name": "Python 3 (ipykernel)",
   "language": "python",
   "name": "python3"
  },
  "language_info": {
   "codemirror_mode": {
    "name": "ipython",
    "version": 3
   },
   "file_extension": ".py",
   "mimetype": "text/x-python",
   "name": "python",
   "nbconvert_exporter": "python",
   "pygments_lexer": "ipython3",
   "version": "3.10.0"
  }
 },
 "nbformat": 4,
 "nbformat_minor": 2
}
