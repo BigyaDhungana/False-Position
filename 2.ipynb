{
 "cells": [
  {
   "cell_type": "markdown",
   "metadata": {},
   "source": [
    "## Newton-Raphson's Method"
   ]
  },
  {
   "cell_type": "code",
   "execution_count": 63,
   "metadata": {},
   "outputs": [],
   "source": [
    "import math\n",
    "import pandas as pd"
   ]
  },
  {
   "cell_type": "code",
   "execution_count": 64,
   "metadata": {},
   "outputs": [],
   "source": [
    "f=lambda x:4*x - (math.e)**x\n",
    "df=lambda x:4-(math.e)**x\n",
    "x_initial=1\n",
    "precision=4\n",
    "n=1"
   ]
  },
  {
   "cell_type": "code",
   "execution_count": 65,
   "metadata": {},
   "outputs": [],
   "source": [
    "data={\n",
    "    'n':[],\n",
    "    'x0':[],\n",
    "    'x':[],\n",
    "}"
   ]
  },
  {
   "cell_type": "code",
   "execution_count": 66,
   "metadata": {},
   "outputs": [],
   "source": [
    "while(True):\n",
    "    data['n'].append(n)\n",
    "    data['x0'].append(x_initial)\n",
    "    x=round(x_initial-(f(x_initial)/df(x_initial)),precision)\n",
    "    if(n!=1):\n",
    "        if(data['x'][-1]==x):\n",
    "            data['x'].append(x)\n",
    "            break\n",
    "    data['x'].append(x)\n",
    "    x_initial=x\n",
    "    n+=1\n",
    "  "
   ]
  },
  {
   "cell_type": "code",
   "execution_count": 67,
   "metadata": {},
   "outputs": [
    {
     "name": "stdout",
     "output_type": "stream",
     "text": [
      "   n      x0       x\n",
      "0  1  1.0000  0.0000\n",
      "1  2  0.0000  0.3333\n",
      "2  3  0.3333  0.3572\n",
      "3  4  0.3572  0.3574\n",
      "4  5  0.3574  0.3574\n"
     ]
    }
   ],
   "source": [
    "data_frame=pd.DataFrame(data)\n",
    "print(data_frame)"
   ]
  }
 ],
 "metadata": {
  "kernelspec": {
   "display_name": "Python 3 (ipykernel)",
   "language": "python",
   "name": "python3"
  },
  "language_info": {
   "codemirror_mode": {
    "name": "ipython",
    "version": 3
   },
   "file_extension": ".py",
   "mimetype": "text/x-python",
   "name": "python",
   "nbconvert_exporter": "python",
   "pygments_lexer": "ipython3",
   "version": "3.10.0"
  }
 },
 "nbformat": 4,
 "nbformat_minor": 2
}
