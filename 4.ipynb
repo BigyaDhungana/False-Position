{
 "cells": [
  {
   "cell_type": "markdown",
   "metadata": {},
   "source": [
    "## Values of function"
   ]
  },
  {
   "cell_type": "code",
   "execution_count": 681,
   "metadata": {},
   "outputs": [],
   "source": [
    "import math \n",
    "import pandas as pd\n",
    "import numpy as np"
   ]
  },
  {
   "cell_type": "code",
   "execution_count": 682,
   "metadata": {},
   "outputs": [],
   "source": [
    "x_values=[0.20,0.22,0.24,0.26,0.28,0.30]\n",
    "y_values=[1.6596,1.6698,1.6804,1.6912,1.7024,1.7139]\n",
    "precision=4"
   ]
  },
  {
   "cell_type": "code",
   "execution_count": 683,
   "metadata": {},
   "outputs": [],
   "source": [
    "forward={\n",
    "    'x':x_values,\n",
    "    'y':y_values,\n",
    "}\n",
    "\n",
    "backward={\n",
    "    'x':x_values,\n",
    "    'y':y_values,\n",
    "}\n"
   ]
  },
  {
   "cell_type": "code",
   "execution_count": 684,
   "metadata": {},
   "outputs": [],
   "source": [
    "def forward_difference(array,precision,index):\n",
    "    diff_array=[\"\"]*len(array)\n",
    "    j=0\n",
    "    for i in range(1,len(array)-index):\n",
    "        diff=round(array[i]-array[j],precision)\n",
    "        diff_array[j]=diff\n",
    "        j=j+1\n",
    "    return diff_array"
   ]
  },
  {
   "cell_type": "code",
   "execution_count": 685,
   "metadata": {},
   "outputs": [],
   "source": [
    "obt_fwd_list=y_values.copy()\n",
    "for i in range(0,len(y_values)-1):\n",
    "    obt_fwd_list=forward_difference(obt_fwd_list,precision,i)\n",
    "    forward[\"{index}\".format(index=i)]=obt_fwd_list"
   ]
  },
  {
   "cell_type": "code",
   "execution_count": 686,
   "metadata": {},
   "outputs": [
    {
     "name": "stdout",
     "output_type": "stream",
     "text": [
      "      x       y       0       1       2       3       4\n",
      "0  0.20  1.6596  0.0102  0.0004 -0.0002  0.0004 -0.0007\n",
      "1  0.22  1.6698  0.0106  0.0002  0.0002 -0.0003        \n",
      "2  0.24  1.6804  0.0108  0.0004 -0.0001                \n",
      "3  0.26  1.6912  0.0112  0.0003                        \n",
      "4  0.28  1.7024  0.0115                                \n",
      "5  0.30  1.7139                                        \n"
     ]
    }
   ],
   "source": [
    "forward_data_frame=pd.DataFrame(forward)\n",
    "print(forward_data_frame)"
   ]
  },
  {
   "cell_type": "code",
   "execution_count": 687,
   "metadata": {},
   "outputs": [],
   "source": [
    "\n",
    "def forward_value(x,forward_dict):\n",
    "    p=(x-forward_dict['x'][0])/(forward_dict['x'][1]-forward_dict['x'][0])\n",
    "    p=round(p,precision)\n",
    "    sum=forward_dict['y'][0]\n",
    "   \n",
    "    for i in range(0,len(forward_dict['x'])-1):\n",
    "        \n",
    "        p_product=1\n",
    "        for j in range(0,i+1):\n",
    "            p_product=p_product*(p-j)\n",
    "        \n",
    "        sum=sum+(forward_dict['{index}'.format(index=i)][0]*p_product)/math.factorial(i+1)\n",
    "        \n",
    "    return round(sum,precision)"
   ]
  },
  {
   "cell_type": "code",
   "execution_count": 688,
   "metadata": {},
   "outputs": [
    {
     "name": "stdout",
     "output_type": "stream",
     "text": [
      "Using Newton's forward interpolation table f(0.21)=1.6646\n",
      "Using Newton's forward interpolation table f(0.29)=1.7081\n"
     ]
    }
   ],
   "source": [
    "print(f\"Using Newton's forward interpolation table f(0.21)={forward_value(0.21,forward)}\")\n",
    "print(f\"Using Newton's forward interpolation table f(0.29)={forward_value(0.29,forward)}\")\n"
   ]
  },
  {
   "cell_type": "code",
   "execution_count": 689,
   "metadata": {},
   "outputs": [],
   "source": [
    "def backward_difference(array,precision,index):\n",
    "    out_array=[\"\"]*len(array)\n",
    "    j=index\n",
    "    for i in range(index+1,len(array)):\n",
    "        diff=array[i]-array[j]\n",
    "        out_array[i]=round(diff,precision)\n",
    "        j=j+1\n",
    "    return out_array "
   ]
  },
  {
   "cell_type": "code",
   "execution_count": 690,
   "metadata": {},
   "outputs": [],
   "source": [
    "obt_bwd_list=y_values.copy()\n",
    "for i in range(0,len(y_values)-1):\n",
    "    obt_bwd_list=backward_difference(obt_bwd_list,precision,i)\n",
    "    backward[\"{index}\".format(index=i)]=obt_bwd_list"
   ]
  },
  {
   "cell_type": "code",
   "execution_count": 691,
   "metadata": {},
   "outputs": [
    {
     "name": "stdout",
     "output_type": "stream",
     "text": [
      "      x       y       0       1       2       3       4\n",
      "0  0.20  1.6596                                        \n",
      "1  0.22  1.6698  0.0102                                \n",
      "2  0.24  1.6804  0.0106  0.0004                        \n",
      "3  0.26  1.6912  0.0108  0.0002 -0.0002                \n",
      "4  0.28  1.7024  0.0112  0.0004  0.0002  0.0004        \n",
      "5  0.30  1.7139  0.0115  0.0003 -0.0001 -0.0003 -0.0007\n"
     ]
    }
   ],
   "source": [
    "backward_data_frame=pd.DataFrame(backward)\n",
    "print(backward_data_frame)"
   ]
  },
  {
   "cell_type": "code",
   "execution_count": 692,
   "metadata": {},
   "outputs": [],
   "source": [
    "def backward_value(x,backward_dict):\n",
    "    p=(x-backward_dict['x'][-1])/(backward_dict['x'][1]-backward_dict['x'][0])\n",
    "    p=round(p,precision)\n",
    "    \n",
    "    sum=backward_dict['y'][-1]\n",
    "   \n",
    "    for i in range(0,len(backward_dict['x'])-1):\n",
    "        p_product=1\n",
    "        for j in range(0,i+1):\n",
    "            p_product=p_product*(p+j)\n",
    "        \n",
    "        sum=sum+(backward_dict['{index}'.format(index=i)][-1]*p_product)/math.factorial(i+1)\n",
    "\n",
    "        \n",
    "        \n",
    "    return round(sum,precision)"
   ]
  },
  {
   "cell_type": "code",
   "execution_count": 693,
   "metadata": {},
   "outputs": [
    {
     "name": "stdout",
     "output_type": "stream",
     "text": [
      "Using Newton's forward interpolation table f(0.21)=1.6646\n",
      "Using Newton's forward interpolation table f(0.29)=1.7081\n"
     ]
    }
   ],
   "source": [
    "\n",
    "print(f\"Using Newton's forward interpolation table f(0.21)={backward_value(0.21,backward)}\")\n",
    "print(f\"Using Newton's forward interpolation table f(0.29)={backward_value(0.29,backward)}\")"
   ]
  }
 ],
 "metadata": {
  "kernelspec": {
   "display_name": "Python 3 (ipykernel)",
   "language": "python",
   "name": "python3"
  },
  "language_info": {
   "codemirror_mode": {
    "name": "ipython",
    "version": 3
   },
   "file_extension": ".py",
   "mimetype": "text/x-python",
   "name": "python",
   "nbconvert_exporter": "python",
   "pygments_lexer": "ipython3",
   "version": "3.10.0"
  }
 },
 "nbformat": 4,
 "nbformat_minor": 2
}
