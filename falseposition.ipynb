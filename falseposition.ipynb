{
 "cells": [
  {
   "cell_type": "code",
   "execution_count": null,
   "metadata": {},
   "outputs": [],
   "source": [
    "import matplotlib.pyplot as plt\n",
    "import numpy as np\n",
    "from sympy import symbols\n",
    "from sympy.utilities.lambdify import lambdify\n",
    "from prettytable import PrettyTable"
   ]
  },
  {
   "cell_type": "code",
   "execution_count": null,
   "metadata": {},
   "outputs": [],
   "source": [
    "#Equation and initialization\n",
    "eqn_sbl=symbols('x')\n",
    "exp=eqn_sbl**3-eqn_sbl-1\n",
    "f=lambdify(eqn_sbl,exp,\"numpy\")\n",
    "table=PrettyTable()\n",
    "table.field_names=[\"n\",\"a\",\"b\",\"f(a)\",\"f(b)\",\"x\",\"f(x)\",\"Sign of f(x)\"]\n",
    "n,a,b=1,-2,2"
   ]
  },
  {
   "cell_type": "code",
   "execution_count": null,
   "metadata": {},
   "outputs": [],
   "source": [
    "#initial graph \n",
    "x_values=np.arange(a,b,0.0001)\n",
    "y_values=f(x_values)\n",
    "x_axis=list(range(-3,6))\n",
    "x_axis_y=np.full(np.shape(x_axis),0)\n",
    "plt.axis([-1,3,-4,4])\n",
    "plt.plot(x_axis,x_axis_y,label=\"x-axis\")\n",
    "plt.plot(x_values,y_values,label=\"f(x)\")\n",
    "plt.legend()"
   ]
  },
  {
   "cell_type": "code",
   "execution_count": null,
   "metadata": {},
   "outputs": [],
   "source": [
    "def x_calculator(a,b):\n",
    "    x=(a*f(b)-b*f(a))/(f(b)-f(a))\n",
    "    return x"
   ]
  },
  {
   "cell_type": "code",
   "execution_count": null,
   "metadata": {},
   "outputs": [],
   "source": [
    "def addToTable(n,a,b,x):\n",
    "    sign=\"+ve\"\n",
    "    if f(x)<0:sign=\"-ve\"\n",
    "    row=[n,a,b,f(a),f(b),x,f(x),sign]\n",
    "    table.add_row(row)"
   ]
  },
  {
   "cell_type": "code",
   "execution_count": null,
   "metadata": {},
   "outputs": [],
   "source": [
    "def falsePosition(a,b,n,prev_x):\n",
    "    while(1):\n",
    "        x=x_calculator(a,b)\n",
    "        if (x==0): return x,n\n",
    "        addToTable(n,a,b,x)\n",
    "        if(f(x)<0):\n",
    "            a=x\n",
    "        else:\n",
    "            b=x\n",
    "        if(x==prev_x):\n",
    "            return x,n\n",
    "        prev_x=x\n",
    "        n=n+1"
   ]
  },
  {
   "cell_type": "code",
   "execution_count": null,
   "metadata": {},
   "outputs": [],
   "source": [
    "\n",
    "root,iteration=falsePosition(a,b,n,0)\n",
    "#display\n",
    "print(\"\\t\\t\\t\\t\\t\\tCalculation Table\\n\")\n",
    "print(table)\n",
    "print(\"\\n\\n\")\n",
    "print(f\"From False Position Method, the approximate root after {iteration} iterations = {root}\\n\\n\")\n"
   ]
  }
 ],
 "metadata": {
  "kernelspec": {
   "display_name": "Python 3",
   "language": "python",
   "name": "python3"
  },
  "language_info": {
   "codemirror_mode": {
    "name": "ipython",
    "version": 3
   },
   "file_extension": ".py",
   "mimetype": "text/x-python",
   "name": "python",
   "nbconvert_exporter": "python",
   "pygments_lexer": "ipython3",
   "version": "3.10.0"
  },
  "orig_nbformat": 4
 },
 "nbformat": 4,
 "nbformat_minor": 2
}
